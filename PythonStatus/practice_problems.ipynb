{
 "cells": [
  {
   "cell_type": "markdown",
   "id": "sustained-helping",
   "metadata": {},
   "source": [
    "# Python Practice Problems"
   ]
  },
  {
   "cell_type": "markdown",
   "id": "quality-carry",
   "metadata": {},
   "source": [
    "### List Comprehension Problems"
   ]
  },
  {
   "cell_type": "code",
   "execution_count": 7,
   "id": "artistic-while",
   "metadata": {},
   "outputs": [],
   "source": [
    "def identity(nums):\n",
    "    \"\"\"Identity:\n",
    "    Given a list of numbers, write a list comprehension that produces a copy of the list.\n",
    "    \"\"\"\n",
    "    return [i for i in nums]\n"
   ]
  },
  {
   "cell_type": "code",
   "execution_count": 8,
   "id": "capable-estimate",
   "metadata": {},
   "outputs": [],
   "source": [
    "def squared(nums):\n",
    "    \"\"\"Squared:\n",
    "    Given a list of numbers, write a list comprehension that produces a list of the squares of each number.\n",
    "    \"\"\"\n",
    "    return [round(i*i, 2) for i in nums]"
   ]
  },
  {
   "cell_type": "code",
   "execution_count": 10,
   "id": "virtual-cannon",
   "metadata": {},
   "outputs": [],
   "source": [
    "def odds(nums):\n",
    "    \"\"\"Odds:\n",
    "    Given a list of numbers, write a list comprehension that produces a list of only the odd numbers in that list.\n",
    "    \"\"\"\n",
    "    return [i for i in nums if i % 2 != 0]"
   ]
  },
  {
   "cell_type": "code",
   "execution_count": 11,
   "id": "republican-paris",
   "metadata": {},
   "outputs": [],
   "source": [
    "def selective_stringify_nums(nums):\n",
    "    \"\"\"Selectively stringify nums:\n",
    "    Given a list of numbers, write a list comprehension that produces a list of strings of each number that is divisible by 5.\n",
    "    \"\"\"\n",
    "    return [str(i) for i in nums if i % 5 == 0]"
   ]
  },
  {
   "cell_type": "code",
   "execution_count": 20,
   "id": "shared-story",
   "metadata": {},
   "outputs": [],
   "source": [
    "def vowels(word):\n",
    "    \"\"\"Vowels:\n",
    "    Given a string representing a word, write a list comprehension that produces a list of all the vowels in that word.\n",
    "    \"\"\"\n",
    "    vowels = \"aeiou\"\n",
    "    return [i for i in word if i in vowels]"
   ]
  },
  {
   "cell_type": "code",
   "execution_count": 21,
   "id": "parallel-queens",
   "metadata": {},
   "outputs": [],
   "source": [
    "def disemvowel(sentence):\n",
    "    \"\"\"Disemvowel:\n",
    "    Given a sentence, return the sentence with all vowels removed.\n",
    "    \"\"\"\n",
    "    vowels = \"aeiou\"\n",
    "    return \"\".join([i for i in sentence if i.lower() not in vowels])"
   ]
  },
  {
   "cell_type": "code",
   "execution_count": 24,
   "id": "broken-sucking",
   "metadata": {},
   "outputs": [],
   "source": [
    "def encrypt_lol(sentence):\n",
    "    \"\"\"Encrypt lol:\n",
    "    Given a sentence, return the sentence will all it's letter transposed by 1 in the alphabet, but only if the letter is a-y.\n",
    "        >>> encrypt_lol('the quick brown fox jumps over the lazy dog')\n",
    "        'uif rvjdl cspxo gpy kvnqt pwfs uif mbzy eph'\n",
    "    \"\"\"\n",
    "    #[alpha[alpha.index(i)+1]\n",
    "    alpha = 'abcdefghijklmnopqrstuvwxyzABCDEFGHIJKLMNOPQRSTUVWXYZ'\n",
    "    return \"\".join([alpha[alpha.index(i)+1] if (i in alpha and i.lower() != 'z') else i for i in sentence])"
   ]
  },
  {
   "cell_type": "markdown",
   "id": "applicable-million",
   "metadata": {},
   "source": [
    "### Testing List Comprehensions"
   ]
  },
  {
   "cell_type": "code",
   "execution_count": 28,
   "id": "consolidated-production",
   "metadata": {},
   "outputs": [
    {
     "name": "stderr",
     "output_type": "stream",
     "text": [
      ".........\n",
      "----------------------------------------------------------------------\n",
      "Ran 9 tests in 0.029s\n",
      "\n",
      "OK\n"
     ]
    },
    {
     "data": {
      "text/plain": [
       "<unittest.main.TestProgram at 0x22b41affa00>"
      ]
     },
     "execution_count": 28,
     "metadata": {},
     "output_type": "execute_result"
    }
   ],
   "source": [
    "import unittest\n",
    "\n",
    "class TestListComprehensions(unittest.TestCase):\n",
    "    def test_identity(self):\n",
    "        self.assertListEqual(identity([1,2,3,4,5]), [1,2,3,4,5])\n",
    "        self.assertEqual(identity([3.9, 4.5, 10.2]), [3.9, 4.5, 10.2])\n",
    "    \n",
    "    def test_squared(self):\n",
    "        self.assertListEqual(squared([1,2,-3,-4,5]), [1,4,9,16,25])\n",
    "        self.assertListEqual(squared([3.9, 4.5, 10.2]), [15.21, 20.25, 104.04])\n",
    "    \n",
    "    def test_odds(self):\n",
    "        self.assertListEqual(odds([1,2,3,4,5]), [1,3,5])\n",
    "        self.assertListEqual(odds([2,4,6]), [])\n",
    "        self.assertListEqual(odds([-2,-4,-7]), [-7])\n",
    "    \n",
    "    def test_selective_stringify_nums(self):\n",
    "        self.assertListEqual(selective_stringify_nums([25, 91, 22, -7, -20]), ['25', '-20'])\n",
    "        self.assertListEqual(selective_stringify_nums([2,4,6,8,12]), [])\n",
    "        self.assertListEqual(selective_stringify_nums([0, -5, 10, -15,  20]), ['0', '-5', '10', '-15', '20'])\n",
    "        \n",
    "    def test_vowels(self):\n",
    "        self.assertListEqual(vowels('mathematics'), ['a', 'e', 'a', 'i'])\n",
    "        self.assertListEqual(vowels('pineapple'), ['i', 'e', 'a', 'e'])\n",
    "        self.assertListEqual(vowels('apartment'), ['a', 'a', 'e'])\n",
    "        \n",
    "    def test_disemvowel(self):\n",
    "        self.assertEqual(disemvowel('the quick brown fox jumps over the lazy dog'), 'th qck brwn fx jmps vr th lzy dg')\n",
    "        self.assertEqual(disemvowel('I am testing out this sentence'), ' m tstng t ths sntnc')\n",
    "        self.assertEqual(disemvowel(' I really hope that the last one worked!'), '  rlly hp tht th lst n wrkd!')\n",
    "    \n",
    "    def test_encrypt_lol(self):\n",
    "        self.assertEqual(encrypt_lol('the quick brown fox jumps over the lazy dog'), 'uif rvjdl cspxo gpy kvnqt pwfs uif mbzz eph')\n",
    "        self.assertEqual(encrypt_lol('This is another test'), 'Uijt jt bopuifs uftu')\n",
    "        self.assertEqual(encrypt_lol('I hope that the last test shifted... except for z'), 'J ipqf uibu uif mbtu uftu tijgufe... fydfqu gps z')\n",
    "    \n",
    "unittest.main(argv=[' '], exit=False)"
   ]
  },
  {
   "cell_type": "markdown",
   "id": "common-offering",
   "metadata": {},
   "source": [
    "### Lambda Practice"
   ]
  },
  {
   "cell_type": "code",
   "execution_count": 1,
   "id": "pursuant-legend",
   "metadata": {},
   "outputs": [],
   "source": [
    "'''\n",
    "Write a Python program to create a lambda function that adds 15 to a given number passed in as an argument.\n",
    "'''\n",
    "add = lambda n: n + 15"
   ]
  },
  {
   "cell_type": "code",
   "execution_count": 2,
   "id": "handy-watson",
   "metadata": {},
   "outputs": [],
   "source": [
    "'''\n",
    "Create a lambda function that multiplies argument x with argument y.\n",
    "'''\n",
    "mult = lambda x, y: x * y"
   ]
  },
  {
   "cell_type": "code",
   "execution_count": 11,
   "id": "another-candidate",
   "metadata": {},
   "outputs": [],
   "source": [
    "''' \n",
    "Write a Python program to create a function that takes one argument, \n",
    "and that argument will be multiplied with an unknown given number.\n",
    "'''\n",
    "def unknown_mult(n):\n",
    "    return lambda a: a * n"
   ]
  },
  {
   "cell_type": "code",
   "execution_count": 20,
   "id": "pacific-standard",
   "metadata": {},
   "outputs": [],
   "source": [
    "'''\n",
    "Write a Python program to sort a list of tuples using Lambda.\n",
    "'''\n",
    "def sort_by_grade(classes):\n",
    "    return sorted(classes, key=lambda x: x[1] )"
   ]
  },
  {
   "cell_type": "code",
   "execution_count": 24,
   "id": "spectacular-biodiversity",
   "metadata": {},
   "outputs": [
    {
     "name": "stdout",
     "output_type": "stream",
     "text": [
      "[2, 8, 4, 6]\n"
     ]
    }
   ],
   "source": [
    "'''\n",
    "Write a Python program to filter even numbers from a list of integers using Lambda.\n",
    "'''\n",
    "def filter_evens(nums):\n",
    "     return list(filter(lambda x: x%2==0, nums))\n",
    "print(filter_evens([1,9,2,8,3,7,4,6,5]))"
   ]
  },
  {
   "cell_type": "markdown",
   "id": "automatic-shark",
   "metadata": {},
   "source": [
    "### Testing Lambdas"
   ]
  },
  {
   "cell_type": "code",
   "execution_count": 25,
   "id": "large-venture",
   "metadata": {},
   "outputs": [
    {
     "name": "stderr",
     "output_type": "stream",
     "text": [
      ".....\n",
      "----------------------------------------------------------------------\n",
      "Ran 5 tests in 0.004s\n",
      "\n",
      "OK\n"
     ]
    },
    {
     "data": {
      "text/plain": [
       "<unittest.main.TestProgram at 0x20bc9df8130>"
      ]
     },
     "execution_count": 25,
     "metadata": {},
     "output_type": "execute_result"
    }
   ],
   "source": [
    "import unittest\n",
    "\n",
    "class TestLambdas(unittest.TestCase):\n",
    "    def test_add(self):\n",
    "        self.assertEqual(add(5), 20)\n",
    "        self.assertEqual(add(-5), 10)\n",
    "        self.assertEqual(add(0), 15)\n",
    "        \n",
    "    def test_mult(self):\n",
    "        self.assertEqual(mult(0, 20), 0)\n",
    "        self.assertEqual(mult(2, 5), 10)\n",
    "        self.assertEqual(mult(-5, 6), -30)\n",
    "        \n",
    "    def test_unknown_mult(self):\n",
    "        mydouble = unknown_mult(2)\n",
    "        self.assertEqual(mydouble(0), 0)\n",
    "        self.assertEqual(mydouble(2), 4)\n",
    "        mytriple = unknown_mult(3)\n",
    "        self.assertEqual(mytriple(1), 3)\n",
    "        self.assertEqual(mytriple(3), 9)\n",
    "        myquint = unknown_mult(5)\n",
    "        self.assertEqual(myquint(4), 20)\n",
    "        self.assertEqual(myquint(2), 10)\n",
    "        \n",
    "    def test_sort_by_grade(self):\n",
    "        self.assertListEqual(sort_by_grade([(\"math\", 80), (\"social studies\", 94), (\"science\", 88), (\"english\", 77)]), \n",
    "                            [(\"english\", 77), (\"math\", 80), (\"science\", 88), (\"social studies\", 94)])\n",
    "        self.assertListEqual(sort_by_grade([(\"english\", 88), (\"science\", 90), (\"math\", 97), (\"social studies\", 90)]), \n",
    "                            [(\"english\", 88), (\"science\", 90), (\"social studies\", 90), (\"math\", 97)])\n",
    "        \n",
    "    def test_filter_evens(self):\n",
    "        self.assertListEqual(filter_evens([1,9,2,8,3,7,4,6,5]), [2,8,4,6])\n",
    "        self.assertListEqual(filter_evens([62,37,50,28,19,82,35,12,35]),[62,50,28,82,12])\n",
    "        self.assertListEqual(filter_evens([65,17,75,97,71,65,73,89,75]), [])\n",
    "        \n",
    "unittest.main(argv=[' '], exit=False)"
   ]
  },
  {
   "cell_type": "code",
   "execution_count": null,
   "id": "straight-authority",
   "metadata": {},
   "outputs": [],
   "source": []
  }
 ],
 "metadata": {
  "kernelspec": {
   "display_name": "Python 3",
   "language": "python",
   "name": "python3"
  },
  "language_info": {
   "codemirror_mode": {
    "name": "ipython",
    "version": 3
   },
   "file_extension": ".py",
   "mimetype": "text/x-python",
   "name": "python",
   "nbconvert_exporter": "python",
   "pygments_lexer": "ipython3",
   "version": "3.9.1"
  }
 },
 "nbformat": 4,
 "nbformat_minor": 5
}
