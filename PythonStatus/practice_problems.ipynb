{
 "cells": [
  {
   "cell_type": "markdown",
   "id": "qualified-oxide",
   "metadata": {},
   "source": [
    "# Python Practice Problems"
   ]
  },
  {
   "cell_type": "markdown",
   "id": "discrete-publication",
   "metadata": {},
   "source": [
    "### List Iteration Problems"
   ]
  },
  {
   "cell_type": "code",
   "execution_count": 3,
   "id": "supposed-intersection",
   "metadata": {},
   "outputs": [
    {
     "name": "stdout",
     "output_type": "stream",
     "text": [
      "[1, 2, 3, 4, 5]\n",
      "[3.9, 4.5, 10.2]\n"
     ]
    }
   ],
   "source": [
    "def identity(nums):\n",
    "    \"\"\"Identity:\n",
    "    Given a list of numbers, write a list comprehension that produces a copy of the list.\n",
    "    \"\"\"\n",
    "    print([i for i in nums])\n",
    "\n",
    "identity([1,2,3,4,5])\n",
    "identity([3.9, 4.5, 10.2])"
   ]
  },
  {
   "cell_type": "code",
   "execution_count": 6,
   "id": "improving-citizen",
   "metadata": {},
   "outputs": [
    {
     "name": "stdout",
     "output_type": "stream",
     "text": [
      "[1, 4, 9, 16, 25]\n",
      "[15.21, 20.25, 104.04]\n"
     ]
    }
   ],
   "source": [
    "def squared(nums):\n",
    "    \"\"\"Squared:\n",
    "    Given a list of numbers, write a list comprehension that produces a list of the squares of each number.\n",
    "    \"\"\"\n",
    "    print([round(i*i, 2) for i in nums])\n",
    "\n",
    "squared([1,2,-3,-4,5])\n",
    "squared([3.9, 4.5, 10.2])"
   ]
  },
  {
   "cell_type": "code",
   "execution_count": 9,
   "id": "closed-miller",
   "metadata": {},
   "outputs": [
    {
     "name": "stdout",
     "output_type": "stream",
     "text": [
      "[1, 3, 5]\n",
      "[]\n",
      "[-7]\n"
     ]
    }
   ],
   "source": [
    "def odds(nums):\n",
    "    \"\"\"Odds:\n",
    "    Given a list of numbers, write a list comprehension that produces a list of only the odd numbers in that list.\n",
    "    \"\"\"\n",
    "    print([i for i in nums if i % 2 != 0])\n",
    "    \n",
    "odds([1,2,3,4,5])\n",
    "odds([2,4,6])\n",
    "odds([-2,-4,-7])"
   ]
  },
  {
   "cell_type": "code",
   "execution_count": 12,
   "id": "valid-latin",
   "metadata": {},
   "outputs": [
    {
     "name": "stdout",
     "output_type": "stream",
     "text": [
      "['25', '-20']\n",
      "[]\n",
      "['0', '-5', '10', '-15', '20']\n"
     ]
    }
   ],
   "source": [
    "def selective_stringify_nums(nums):\n",
    "    \"\"\"Selectively stringify nums:\n",
    "    Given a list of numbers, write a list comprehension that produces a list of strings of each number that is divisible by 5.\n",
    "    \"\"\"\n",
    "    print([str(i) for i in nums if i % 5 == 0])\n",
    "    \n",
    "selective_stringify_nums([25, 91, 22, -7, -20])\n",
    "selective_stringify_nums([2, 4, 6, 8, 12])\n",
    "selective_stringify_nums([0, -5, 10, -15, 20])"
   ]
  },
  {
   "cell_type": "code",
   "execution_count": 17,
   "id": "thermal-spray",
   "metadata": {},
   "outputs": [
    {
     "name": "stdout",
     "output_type": "stream",
     "text": [
      "['a', 'e', 'a', 'i']\n",
      "['i', 'e', 'a', 'e']\n",
      "['a', 'a', 'e']\n"
     ]
    }
   ],
   "source": [
    "def vowels(word):\n",
    "    \"\"\"Vowels:\n",
    "    Given a string representing a word, write a list comprehension that produces a list of all the vowels in that word.\n",
    "    \"\"\"\n",
    "    vowels = \"aeiou\"\n",
    "    print([i for i in word if i in vowels])\n",
    "    \n",
    "vowels('mathematics')\n",
    "vowels('pineapple')\n",
    "vowels('apartment')"
   ]
  },
  {
   "cell_type": "code",
   "execution_count": 24,
   "id": "retired-essex",
   "metadata": {},
   "outputs": [
    {
     "name": "stdout",
     "output_type": "stream",
     "text": [
      "th qck brwn fx jmps vr th lzy dg\n",
      "I m tstng t ths sntnc\n",
      " I rlly hp tht th lst n wrkd!\n"
     ]
    }
   ],
   "source": [
    "def disemvowel(sentence):\n",
    "    \"\"\"Disemvowel:\n",
    "    Given a sentence, return the sentence with all vowels removed.\n",
    "    \"\"\"\n",
    "    vowels = \"aeiou\"\n",
    "    print(\"\".join([i for i in sentence if i not in vowels]))\n",
    "    \n",
    "disemvowel('the quick brown fox jumps over the lazy dog')\n",
    "disemvowel('I am testing out this sentence')\n",
    "disemvowel(' I really hope that the last one worked!')"
   ]
  },
  {
   "cell_type": "code",
   "execution_count": 54,
   "id": "graduate-sender",
   "metadata": {},
   "outputs": [
    {
     "name": "stdout",
     "output_type": "stream",
     "text": [
      "uif rvjdl cspxo gpy kvnqt pwfs uif mbzz eph\n",
      "Tijt jt bopuifs uftu\n",
      "I ipqf uibu uif mbtu uftu tijgufe... fydfqu gps z\n"
     ]
    }
   ],
   "source": [
    "def encrypt_lol(sentence):\n",
    "    \"\"\"Encrypt lol:\n",
    "    Given a sentence, return the sentence will all it's letter transposed by 1 in the alphabet, but only if the letter is a-y.\n",
    "        >>> encrypt_lol('the quick brown fox jumps over the lazy dog')\n",
    "        'uif rvjdl cspxo gpy kvnqt pwfs uif mbzy eph'\n",
    "    \"\"\"\n",
    "    #[alpha[alpha.index(i)+1]\n",
    "    alpha = 'abcdefghijklmnopqrstuvwxyz'\n",
    "    print(\"\".join([alpha[alpha.index(i)+1] if (i in alpha and i != 'z') else i for i in sentence]))\n",
    "          \n",
    "encrypt_lol('the quick brown fox jumps over the lazy dog')\n",
    "encrypt_lol('This is another test')\n",
    "encrypt_lol('I hope that the last test shifted... except for z')"
   ]
  },
  {
   "cell_type": "code",
   "execution_count": null,
   "id": "plastic-newport",
   "metadata": {},
   "outputs": [],
   "source": []
  }
 ],
 "metadata": {
  "kernelspec": {
   "display_name": "Python 3",
   "language": "python",
   "name": "python3"
  },
  "language_info": {
   "codemirror_mode": {
    "name": "ipython",
    "version": 3
   },
   "file_extension": ".py",
   "mimetype": "text/x-python",
   "name": "python",
   "nbconvert_exporter": "python",
   "pygments_lexer": "ipython3",
   "version": "3.9.1"
  }
 },
 "nbformat": 4,
 "nbformat_minor": 5
}
