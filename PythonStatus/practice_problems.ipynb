{
 "cells": [
  {
   "cell_type": "markdown",
   "id": "streaming-choir",
   "metadata": {},
   "source": [
    "# Python Practice Problems"
   ]
  },
  {
   "cell_type": "markdown",
   "id": "rolled-range",
   "metadata": {},
   "source": [
    "### List Comprehension Problems"
   ]
  },
  {
   "cell_type": "code",
   "execution_count": 7,
   "id": "alleged-theology",
   "metadata": {},
   "outputs": [],
   "source": [
    "def identity(nums):\n",
    "    \"\"\"Identity:\n",
    "    Given a list of numbers, write a list comprehension that produces a copy of the list.\n",
    "    \"\"\"\n",
    "    return [i for i in nums]\n"
   ]
  },
  {
   "cell_type": "code",
   "execution_count": 8,
   "id": "empirical-anchor",
   "metadata": {},
   "outputs": [],
   "source": [
    "def squared(nums):\n",
    "    \"\"\"Squared:\n",
    "    Given a list of numbers, write a list comprehension that produces a list of the squares of each number.\n",
    "    \"\"\"\n",
    "    return [round(i*i, 2) for i in nums]"
   ]
  },
  {
   "cell_type": "code",
   "execution_count": 10,
   "id": "extended-riverside",
   "metadata": {},
   "outputs": [],
   "source": [
    "def odds(nums):\n",
    "    \"\"\"Odds:\n",
    "    Given a list of numbers, write a list comprehension that produces a list of only the odd numbers in that list.\n",
    "    \"\"\"\n",
    "    return [i for i in nums if i % 2 != 0]"
   ]
  },
  {
   "cell_type": "code",
   "execution_count": 11,
   "id": "naughty-village",
   "metadata": {},
   "outputs": [],
   "source": [
    "def selective_stringify_nums(nums):\n",
    "    \"\"\"Selectively stringify nums:\n",
    "    Given a list of numbers, write a list comprehension that produces a list of strings of each number that is divisible by 5.\n",
    "    \"\"\"\n",
    "    return [str(i) for i in nums if i % 5 == 0]"
   ]
  },
  {
   "cell_type": "code",
   "execution_count": 20,
   "id": "large-salvation",
   "metadata": {},
   "outputs": [],
   "source": [
    "def vowels(word):\n",
    "    \"\"\"Vowels:\n",
    "    Given a string representing a word, write a list comprehension that produces a list of all the vowels in that word.\n",
    "    \"\"\"\n",
    "    vowels = \"aeiou\"\n",
    "    return [i for i in word if i in vowels]"
   ]
  },
  {
   "cell_type": "code",
   "execution_count": 21,
   "id": "broken-chassis",
   "metadata": {},
   "outputs": [],
   "source": [
    "def disemvowel(sentence):\n",
    "    \"\"\"Disemvowel:\n",
    "    Given a sentence, return the sentence with all vowels removed.\n",
    "    \"\"\"\n",
    "    vowels = \"aeiou\"\n",
    "    return \"\".join([i for i in sentence if i.lower() not in vowels])"
   ]
  },
  {
   "cell_type": "code",
   "execution_count": 24,
   "id": "solid-vienna",
   "metadata": {},
   "outputs": [],
   "source": [
    "def encrypt_lol(sentence):\n",
    "    \"\"\"Encrypt lol:\n",
    "    Given a sentence, return the sentence will all it's letter transposed by 1 in the alphabet, but only if the letter is a-y.\n",
    "        >>> encrypt_lol('the quick brown fox jumps over the lazy dog')\n",
    "        'uif rvjdl cspxo gpy kvnqt pwfs uif mbzy eph'\n",
    "    \"\"\"\n",
    "    #[alpha[alpha.index(i)+1]\n",
    "    alpha = 'abcdefghijklmnopqrstuvwxyzABCDEFGHIJKLMNOPQRSTUVWXYZ'\n",
    "    return \"\".join([alpha[alpha.index(i)+1] if (i in alpha and i.lower() != 'z') else i for i in sentence])"
   ]
  },
  {
   "cell_type": "markdown",
   "id": "seven-pressure",
   "metadata": {},
   "source": [
    "### Testing List Comprehensions"
   ]
  },
  {
   "cell_type": "code",
   "execution_count": 28,
   "id": "united-miami",
   "metadata": {},
   "outputs": [
    {
     "name": "stderr",
     "output_type": "stream",
     "text": [
      ".........\n",
      "----------------------------------------------------------------------\n",
      "Ran 9 tests in 0.029s\n",
      "\n",
      "OK\n"
     ]
    },
    {
     "data": {
      "text/plain": [
       "<unittest.main.TestProgram at 0x22b41affa00>"
      ]
     },
     "execution_count": 28,
     "metadata": {},
     "output_type": "execute_result"
    }
   ],
   "source": [
    "import unittest\n",
    "\n",
    "class TestListComprehensions(unittest.TestCase):\n",
    "    def test_identity(self):\n",
    "        self.assertListEqual(identity([1,2,3,4,5]), [1,2,3,4,5])\n",
    "        self.assertEqual(identity([3.9, 4.5, 10.2]), [3.9, 4.5, 10.2])\n",
    "    \n",
    "    def test_squared(self):\n",
    "        self.assertListEqual(squared([1,2,-3,-4,5]), [1,4,9,16,25])\n",
    "        self.assertListEqual(squared([3.9, 4.5, 10.2]), [15.21, 20.25, 104.04])\n",
    "    \n",
    "    def test_odds(self):\n",
    "        self.assertListEqual(odds([1,2,3,4,5]), [1,3,5])\n",
    "        self.assertListEqual(odds([2,4,6]), [])\n",
    "        self.assertListEqual(odds([-2,-4,-7]), [-7])\n",
    "    \n",
    "    def test_selective_stringify_nums(self):\n",
    "        self.assertListEqual(selective_stringify_nums([25, 91, 22, -7, -20]), ['25', '-20'])\n",
    "        self.assertListEqual(selective_stringify_nums([2,4,6,8,12]), [])\n",
    "        self.assertListEqual(selective_stringify_nums([0, -5, 10, -15,  20]), ['0', '-5', '10', '-15', '20'])\n",
    "        \n",
    "    def test_vowels(self):\n",
    "        self.assertListEqual(vowels('mathematics'), ['a', 'e', 'a', 'i'])\n",
    "        self.assertListEqual(vowels('pineapple'), ['i', 'e', 'a', 'e'])\n",
    "        self.assertListEqual(vowels('apartment'), ['a', 'a', 'e'])\n",
    "        \n",
    "    def test_disemvowel(self):\n",
    "        self.assertEqual(disemvowel('the quick brown fox jumps over the lazy dog'), 'th qck brwn fx jmps vr th lzy dg')\n",
    "        self.assertEqual(disemvowel('I am testing out this sentence'), ' m tstng t ths sntnc')\n",
    "        self.assertEqual(disemvowel(' I really hope that the last one worked!'), '  rlly hp tht th lst n wrkd!')\n",
    "    \n",
    "    def test_encrypt_lol(self):\n",
    "        self.assertEqual(encrypt_lol('the quick brown fox jumps over the lazy dog'), 'uif rvjdl cspxo gpy kvnqt pwfs uif mbzz eph')\n",
    "        self.assertEqual(encrypt_lol('This is another test'), 'Uijt jt bopuifs uftu')\n",
    "        self.assertEqual(encrypt_lol('I hope that the last test shifted... except for z'), 'J ipqf uibu uif mbtu uftu tijgufe... fydfqu gps z')\n",
    "    \n",
    "unittest.main(argv=[' '], exit=False)"
   ]
  },
  {
   "cell_type": "code",
   "execution_count": null,
   "id": "intensive-thursday",
   "metadata": {},
   "outputs": [],
   "source": []
  }
 ],
 "metadata": {
  "kernelspec": {
   "display_name": "Python 3",
   "language": "python",
   "name": "python3"
  },
  "language_info": {
   "codemirror_mode": {
    "name": "ipython",
    "version": 3
   },
   "file_extension": ".py",
   "mimetype": "text/x-python",
   "name": "python",
   "nbconvert_exporter": "python",
   "pygments_lexer": "ipython3",
   "version": "3.9.1"
  }
 },
 "nbformat": 4,
 "nbformat_minor": 5
}
