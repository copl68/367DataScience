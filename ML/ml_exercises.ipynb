{
 "cells": [
  {
   "cell_type": "markdown",
   "id": "looking-chocolate",
   "metadata": {},
   "source": [
    "# Questions\n",
    "\n",
    "Fill in your name and the link to this file on your github.\n",
    "\n",
    "* Name: Cole Plum\n",
    "* Link to github URL: https://github.com/copl68/367DataScience/tree/main/ML"
   ]
  },
  {
   "cell_type": "code",
   "execution_count": 1,
   "id": "matched-delta",
   "metadata": {},
   "outputs": [],
   "source": [
    "import pandas as pd\n",
    "import numpy as np\n",
    "import scipy.stats as st\n",
    "import matplotlib.pyplot as plt\n",
    "import scipy\n",
    "\n",
    "from sklearn.naive_bayes import GaussianNB\n",
    "from sklearn import metrics\n",
    "from sklearn import datasets\n",
    "from sklearn.model_selection import train_test_split\n",
    "from sklearn.linear_model import LinearRegression"
   ]
  },
  {
   "cell_type": "markdown",
   "id": "different-dialogue",
   "metadata": {},
   "source": [
    "# ML: Linear Regression\n",
    "\n",
    "So this starts with linear regression. If you want a deeper dive than what I cover in class, you can refer to [this page](https://realpython.com/linear-regression-in-python/)\n",
    "\n",
    "The exercises come from this workbook, which has somewhat helpful explanations too: https://csmastersuh.github.io/data_analysis_with_python_2020/linear_regression.html"
   ]
  },
  {
   "cell_type": "markdown",
   "id": "relative-fantasy",
   "metadata": {},
   "source": [
    "# Exercise 10: Linear Regression\n",
    "\n",
    "You'll need to make up some data for this. Don't spend too much time on this one, it's less interesting compared to the others."
   ]
  },
  {
   "cell_type": "code",
   "execution_count": 3,
   "id": "sweet-capacity",
   "metadata": {},
   "outputs": [
    {
     "data": {
      "text/plain": [
       "array([ 0.        ,  0.52631579,  1.05263158,  1.57894737,  2.10526316,\n",
       "        2.63157895,  3.15789474,  3.68421053,  4.21052632,  4.73684211,\n",
       "        5.26315789,  5.78947368,  6.31578947,  6.84210526,  7.36842105,\n",
       "        7.89473684,  8.42105263,  8.94736842,  9.47368421, 10.        ])"
      ]
     },
     "metadata": {},
     "output_type": "display_data"
    },
    {
     "data": {
      "text/plain": [
       "array([ 0.38816428,  1.99239707,  3.71182515,  3.47528535,  4.69599628,\n",
       "        6.30757188,  6.87910432,  6.7800917 ,  9.93500244, 10.93515185,\n",
       "       12.05875159, 12.8518944 , 13.51556037, 15.56896688, 16.19709351,\n",
       "       15.5467536 , 16.76182499, 19.02575069, 20.05493671, 22.29564767])"
      ]
     },
     "metadata": {},
     "output_type": "display_data"
    },
    {
     "data": {
      "image/png": "[encoded data removed]",
      "text/plain": [
       "<Figure size 432x288 with 1 Axes>"
      ]
     },
     "metadata": {
      "needs_background": "light"
     },
     "output_type": "display_data"
    },
    {
     "name": "stdout",
     "output_type": "stream",
     "text": [
      "Coefficient: 2.0549770554500593\n",
      "Intercept: 0.6740032593282894\n"
     ]
    },
    {
     "data": {
      "image/png": "[encoded data removed]",
      "text/plain": [
       "<Figure size 432x288 with 1 Axes>"
      ]
     },
     "metadata": {
      "needs_background": "light"
     },
     "output_type": "display_data"
    }
   ],
   "source": [
    "n=20\n",
    "# Linearly increasing x values\n",
    "x = np.linspace(0, 10, n)\n",
    "# Wonky line of points\n",
    "y = x*2 + 1 + 1*np.random.randn(n)\n",
    "display(x, y)\n",
    "plt.scatter(x, y)\n",
    "plt.show()\n",
    "\n",
    "model = LinearRegression(fit_intercept=True)\n",
    "model.fit(x[:,np.newaxis], y)\n",
    "xfit = np.linspace(0,10,n)\n",
    "yfit = model.predict(xfit[:, np.newaxis])\n",
    "plt.plot(xfit, yfit, color=\"black\")\n",
    "plt.plot(x,y, 'o')\n",
    "plt.plot(np.vstack([x,x]), np.vstack([y, model.predict(x[:, np.newaxis])]), color=\"red\");\n",
    "print(\"Coefficient:\", model.coef_[0])\n",
    "print(\"Intercept:\", model.intercept_)"
   ]
  },
  {
   "cell_type": "markdown",
   "id": "alternative-planet",
   "metadata": {},
   "source": [
    "# Exercise 11: Mystery Data\n",
    "\n",
    "This one is far more interesting. You can download the file from [here](https://raw.githubusercontent.com/AnkS4/hy-data-analysis-with-python-2020/master/part05-e11_mystery_data/src/mystery_data.tsv). Make sure it gets the right filename!\n",
    "\n",
    "You don't need to define any functions, as they demand, although you might find that helpful to do."
   ]
  },
  {
   "cell_type": "code",
   "execution_count": 17,
   "id": "timely-contributor",
   "metadata": {},
   "outputs": [
    {
     "name": "stdout",
     "output_type": "stream",
     "text": [
      "Coefficient of X1 is 2.9999999999999907\n",
      "Coefficient of X2 is -1.0\n",
      "Coefficient of X3 is 6.999999999999998\n",
      "Coefficient of X4 is 4.440892098500626e-16\n",
      "Coefficient of X5 is -19.999999999999996\n"
     ]
    }
   ],
   "source": [
    "data = pd.read_csv(\"https://raw.githubusercontent.com/AnkS4/hy-data-analysis-with-python-2020/master/part05-e11_mystery_data/src/mystery_data.tsv\", \n",
    "                   sep='\\t', header=0)\n",
    "\n",
    "model2=LinearRegression(fit_intercept=False)\n",
    "x = data.iloc[:, 0:5]\n",
    "y = data.iloc[:, 5]\n",
    "model2.fit(x,y)\n",
    "for i,co in enumerate(model2.coef_):\n",
    "    print(\"Coefficient of X\" + str(i+1) + \" is \" + str(co))"
   ]
  },
  {
   "cell_type": "markdown",
   "id": "unique-blond",
   "metadata": {},
   "source": [
    "## Exercise 12: Coefficient of Determination\n",
    "\n",
    "Read over this entire problem, parts 1 and 2.\n",
    "\n",
    "This reuses the same `mystery_data.tsv` file as before.\n",
    "\n",
    "Again, you do not need to define their function. Just calculate the R2 scores and print them, as they direct."
   ]
  },
  {
   "cell_type": "code",
   "execution_count": 20,
   "id": "passing-dietary",
   "metadata": {},
   "outputs": [
    {
     "name": "stdout",
     "output_type": "stream",
     "text": [
      "Intercept: 431.00583500854054\n",
      "R-2 Score with feature X: 1.0\n",
      "R-2 Score with feature X1: 0.01691827260276857\n",
      "R-2 Score with feature X2: 0.008964585308688933\n",
      "R-2 Score with feature X3: 0.08785404530656282\n",
      "R-2 Score with feature X4: 0.0003023708825460325\n",
      "R-2 Score with feature X5: 0.8679744020096123\n"
     ]
    }
   ],
   "source": [
    "print(\"Intercept: \" + str(model2.intercept_))\n",
    "model2=LinearRegression(fit_intercept=True)\n",
    "#model2=LinearRegression(fit_intercept=False)\n",
    "x = data.iloc[:, 0:5]\n",
    "y = data.iloc[:, 5]\n",
    "model2.fit(x,y)\n",
    "scores = []\n",
    "scores.append(model2.score(x, y))\n",
    "for i in x:\n",
    "    model2.fit(data[i].values.reshape(-1, 1), y)\n",
    "    score = model2.score(data[i].values.reshape(-1, 1), y)\n",
    "    scores.append(score)\n",
    "print(\"R-2 Score with feature X: \" + str(scores[0]))\n",
    "print(\"R-2 Score with feature X1: \" + str(scores[1]))\n",
    "print(\"R-2 Score with feature X2: \" + str(scores[2]))\n",
    "print(\"R-2 Score with feature X3: \" + str(scores[3]))\n",
    "print(\"R-2 Score with feature X4: \" + str(scores[4]))\n",
    "print(\"R-2 Score with feature X5: \" + str(scores[5]))"
   ]
  },
  {
   "cell_type": "markdown",
   "id": "wicked-possible",
   "metadata": {},
   "source": [
    "## Exercise 13: Cycling Weather\n",
    "\n",
    "I've already prepared the data that they require for this assignment. You can download it [here](https://gist.githubusercontent.com/acbart/466174a04e9a2505c4c25f91fc6dd4f6/raw/726865070677ec7dede17a08095624e0ea35e7cd/biking.csv).\n",
    "\n",
    "The first column is the index, you can safely ignore it. The next 7 columns are straightforward. The last few columns are locations in Finland that have measuring stations. I recommend using `Baana` as they say in the instructions for testing.\n"
   ]
  },
  {
   "cell_type": "code",
   "execution_count": 66,
   "id": "induced-inspector",
   "metadata": {},
   "outputs": [
    {
     "name": "stdout",
     "output_type": "stream",
     "text": [
      "Measuring station: Baana\n",
      "Regression coefficient for variable 'precipitation': -52.2\n",
      "Regression coefficient for variable 'snow depth': -32.9\n",
      "Regression coefficient for variable 'temperature': 169.2\n",
      "Score: 0.58\n"
     ]
    }
   ],
   "source": [
    "data2 = pd.read_csv(\"https://gist.githubusercontent.com/acbart/466174a04e9a2505c4c25f91fc6dd4f6/raw/726865070677ec7dede17a08095624e0ea35e7cd/biking.csv\")\n",
    "data2 = data2.iloc[:, 1:]\n",
    "model3 = LinearRegression(fit_intercept=True)\n",
    "x = []\n",
    "for i in range(data2.index.max()+1):\n",
    "    x.append([data2['Precipitation amount (mm)'][i], data2['Snow depth (cm)'][i], data2['Air temperature (degC)'][i]])\n",
    "y = data2['Baana']\n",
    "model3.fit(x,y)\n",
    "\n",
    "print(\"Measuring station: Baana\")\n",
    "print(\"Regression coefficient for variable 'precipitation': \" + str(round(model3.coef_[0],1)))\n",
    "print(\"Regression coefficient for variable 'snow depth': \" + str(round(model3.coef_[1],1)))\n",
    "print(\"Regression coefficient for variable 'temperature': \" + str(round(model3.coef_[2],1)))\n",
    "print(\"Score: \" + str(round(model3.score(x,y),2)))"
   ]
  },
  {
   "cell_type": "markdown",
   "id": "distinct-cathedral",
   "metadata": {},
   "source": [
    "# ML Naive Bayes Classification\n",
    "\n",
    "This is the next section of the exercises, from: https://csmastersuh.github.io/data_analysis_with_python_2020/bayes.html\n",
    "\n",
    "In addition to the reading, I recommend this video: https://www.youtube.com/watch?v=CPqOCI0ahss\n",
    "\n",
    "\n",
    "## Exercise 1: Blob Classification\n",
    "\n",
    "(**OPTIONAL**) This one is very vague, and they're actually asking you to generate your own test data using the `make_blobs` function from `sklearn`'s `datasets` submodule. I've already started that work for you. But honestly if you want to skip it, I don't think it's a helpful starting question."
   ]
  },
  {
   "cell_type": "code",
   "execution_count": 9,
   "id": "starting-austria",
   "metadata": {},
   "outputs": [
    {
     "name": "stdout",
     "output_type": "stream",
     "text": [
      "The accuracy score is None\n",
      "array([[2.0, 2.0, 0.0, 2.5, None],\n",
      "       [2.0, 3.0, 1.0, 1.5, None],\n",
      "       [2.0, 2.0, 6.0, 3.5, None],\n",
      "       [2.0, 2.0, 3.0, 1.2, None],\n",
      "       [2.0, 4.0, 4.0, 2.7, None]], dtype=object)\n"
     ]
    }
   ],
   "source": [
    "def blob_classification(X, y):\n",
    "    # Put ML stuff here\n",
    "    pass\n",
    "\n",
    "# Create the training data and validation data\n",
    "X, y = datasets.make_blobs(100, 2, centers=2, random_state=2, cluster_std=2.5)\n",
    "# Run your ML predictions\n",
    "print(\"The accuracy score is\", blob_classification(X, y))\n",
    "# Run this on some new data\n",
    "a=np.array([[2, 2, 0, 2.5],\n",
    "            [2, 3, 1, 1.5],\n",
    "            [2, 2, 6, 3.5],\n",
    "            [2, 2, 3, 1.2],\n",
    "            [2, 4, 4, 2.7]])\n",
    "accuracies = []\n",
    "for row in a:\n",
    "    X,y = datasets.make_blobs(100, int(row[0]), centers=int(row[1]),\n",
    "                              random_state=int(row[2]), cluster_std=row[3])\n",
    "    accuracies.append(blob_classification(X, y))\n",
    "print(repr(np.hstack([a, np.array(accuracies)[:,np.newaxis]])))\n",
    "# The last column should be the categorizations"
   ]
  },
  {
   "cell_type": "markdown",
   "id": "colored-novel",
   "metadata": {},
   "source": [
    "## Exercise 2: Plant Classification\n",
    "\n",
    "This is a much better question. The Iris dataset is a classic: https://en.wikipedia.org/wiki/Iris_flower_data_set\n",
    "\n",
    "The wikipedia page gives an example of how to load the dataset."
   ]
  },
  {
   "cell_type": "code",
   "execution_count": 39,
   "id": "painted-reality",
   "metadata": {},
   "outputs": [
    {
     "name": "stdout",
     "output_type": "stream",
     "text": [
      "[2 1 0 2 0 2 0 1 1 1 2 1 1 1 1 0 1 1 0 0 2 1 0 0 2 0 0 1 1 0]\n",
      "[2 1 0 2 0 2 0 1 1 1 1 1 1 1 1 0 1 1 0 0 2 1 0 0 2 0 0 1 1 0]\n"
     ]
    },
    {
     "data": {
      "text/plain": [
       "0.9666666666666667"
      ]
     },
     "execution_count": 39,
     "metadata": {},
     "output_type": "execute_result"
    }
   ],
   "source": [
    "from sklearn.datasets import load_iris\n",
    "data = load_iris()\n",
    "x_train, x_test, y_train, y_test = train_test_split(data.data, data.target, test_size=.2, random_state=0)\n",
    "model = GaussianNB()\n",
    "model.fit(x_train, y_train)\n",
    "y_fitted = model.predict(x_test)\n",
    "print(y_test)      #One prediction of 30 was incorrect\n",
    "print(y_fitted)\n",
    "metrics.accuracy_score(y_test, y_fitted)"
   ]
  },
  {
   "cell_type": "markdown",
   "id": "fabulous-bouquet",
   "metadata": {},
   "source": [
    "## Exercise 3: Word Classification\n",
    "\n",
    "(**Skip**)\n",
    "\n",
    "This one is too much. They give some of the data as an XML file. It's an interesting problem, and you can find the data (and solution) [here](https://github.com/AnkS4/hy-data-analysis-with-python-2020/tree/master/part06-e03_word_classification/src) if you want to tackle it, but I'm skipping it.\n"
   ]
  },
  {
   "cell_type": "code",
   "execution_count": null,
   "id": "italian-scholar",
   "metadata": {},
   "outputs": [],
   "source": []
  },
  {
   "cell_type": "markdown",
   "id": "strategic-sperm",
   "metadata": {},
   "source": [
    "## Exercise 4: Spam Detection\n",
    "\n",
    "Download [ham.txt.gz](https://github.com/AnkS4/hy-data-analysis-with-python-2020/raw/master/part06-e04_spam_detection/src/ham.txt.gz) and [spam.txt.gz](https://github.com/AnkS4/hy-data-analysis-with-python-2020/raw/master/part06-e04_spam_detection/src/spam.txt.gz).\n",
    "\n",
    "This one is much more interesting and reasonable. It requires processing some large text files, but that's actually the easiest part, as shown in the code below. The idea is that you have spam (bad emails) and ham (good emails), and you want to determine which is which. I've done similar email processing (detecting job ads for a conference) and I was impressed with how easily I could train a little data and get very good results."
   ]
  },
  {
   "cell_type": "code",
   "execution_count": 63,
   "id": "lesser-serbia",
   "metadata": {},
   "outputs": [
    {
     "name": "stdout",
     "output_type": "stream",
     "text": [
      "Number of spam emails loaded as strings: 500\n",
      "Number of ham emails loaded as strings: 2500\n",
      "\n",
      "Score:  0.9693333333333334\n",
      "Size:  750\n",
      "Misclassified points:  23\n"
     ]
    }
   ],
   "source": [
    "from sklearn.feature_extraction.text import CountVectorizer\n",
    "from sklearn.naive_bayes import MultinomialNB\n",
    "from sklearn.metrics import accuracy_score\n",
    "import gzip\n",
    "\n",
    "# Load the spam emails as strings in a list.\n",
    "with gzip.open('spam.txt.gz', 'rb') as spam_file:\n",
    "    spam = spam_file.readlines()\n",
    "print(\"Number of spam emails loaded as strings:\", len(spam))\n",
    "\n",
    "# Now do the same thing with the `ham.txt.gz`\n",
    "with gzip.open('ham.txt.gz', 'rb') as ham_file:\n",
    "    ham = ham_file.readlines()\n",
    "print(\"Number of ham emails loaded as strings:\", len(ham))\n",
    "\n",
    "# And then do the actual ML stuff\n",
    "x = ham + spam\n",
    "vectorizer = CountVectorizer()\n",
    "x = vectorizer.fit_transform(x).toarray()\n",
    "y = np.zeros(len(x))\n",
    "y[len(ham):] = 1\n",
    "x_train, x_test, y_train, y_test = train_test_split(x, y, random_state=0, train_size=0.75)\n",
    "model = MultinomialNB()\n",
    "model.fit(x_train, y_train)\n",
    "y_pred = model.predict(x_test)\n",
    "\n",
    "print(\"\\nScore: \", accuracy_score(y_test, y_pred))\n",
    "print(\"Size: \", len(x_test))\n",
    "print(\"Misclassified points: \", (y_test != y_pred).sum())"
   ]
  },
  {
   "cell_type": "markdown",
   "id": "demonstrated-dover",
   "metadata": {},
   "source": [
    "# ML Clustering\n",
    "\n",
    "This is the last section: https://csmastersuh.github.io/data_analysis_with_python_2020/clustering.html\n",
    "\n",
    "This section is one of the most interesting in my opinion. K-Means is a pretty straightforward tool, and is really worth learning how to use it."
   ]
  },
  {
   "cell_type": "markdown",
   "id": "elect-parish",
   "metadata": {},
   "source": [
    "## Exercise 5: Plant Clustering\n",
    "\n",
    "Same deal as before; use the IRIS dataset. Since this has so many parameters, it can be tricky to make a good visualization."
   ]
  },
  {
   "cell_type": "code",
   "execution_count": 78,
   "id": "amateur-smooth",
   "metadata": {},
   "outputs": [
    {
     "name": "stdout",
     "output_type": "stream",
     "text": [
      "Score:  0.8933333333333333\n"
     ]
    }
   ],
   "source": [
    "from sklearn.cluster import KMeans\n",
    "from sklearn.metrics import accuracy_score\n",
    "\n",
    "model = KMeans(3, random_state=0)\n",
    "model.fit(data.data)\n",
    "\n",
    "perm = []\n",
    "for i in range(3):\n",
    "        idx = model.labels_ == i\n",
    "        # Choose the most common label among data points in the cluster\n",
    "        new_label=scipy.stats.mode(data.target[idx])[0][0]\n",
    "        perm.append(new_label)\n",
    "print(\"Score: \", accuracy_score(data.target, [perm[label] for label in model.labels_]))"
   ]
  },
  {
   "cell_type": "markdown",
   "id": "lesser-decision",
   "metadata": {},
   "source": [
    "## Exercise 6: Non-convex Clusters\n",
    "\n",
    "The data for this question is [here](https://raw.githubusercontent.com/AnkS4/hy-data-analysis-with-python-2020/master/part06-e06_nonconvex_clusters/src/data.tsv).\n",
    "\n",
    "This one shows off a different clustering algorithm ([`DBSCAN`](https://scikit-learn.org/stable/modules/generated/sklearn.cluster.DBSCAN.html)), which is \"Good for data which contains clusters of similar density\". I wasn't very familiar with DBSCAN, but it does seem much better than KMeans. It doesn't require you to figure out the number of clusters, and seems to be tricked less by unusual data. [This page](https://www.kdnuggets.com/2020/04/dbscan-clustering-algorithm-machine-learning.html) was very helpful in breaking that difference down.\n",
    "\n",
    "The reference answer uses a `for` loop and `np.arange` to try `e` values from 0.05 to 0.2 in 0.05 increments, but I don't mind if you just manually try some different `e` values.\n",
    "\n",
    "Please do make a visualization with clusters colored, since I think that really highlights what we are doing!"
   ]
  },
  {
   "cell_type": "code",
   "execution_count": 130,
   "id": "adjusted-window",
   "metadata": {},
   "outputs": [
    {
     "data": {
      "image/png": "[encoded data removed]",
      "text/plain": [
       "<Figure size 432x288 with 1 Axes>"
      ]
     },
     "metadata": {
      "needs_background": "light"
     },
     "output_type": "display_data"
    }
   ],
   "source": [
    "from sklearn.cluster import DBSCAN\n",
    "from sklearn.metrics import accuracy_score\n",
    "\n",
    "def find_permutation(n_clusters, real_labels, labels):\n",
    "    permutation=[]\n",
    "    for i in range(n_clusters):\n",
    "        idx = labels == i\n",
    "        # Choose the most common label among data points in the cluster\n",
    "        new_label=scipy.stats.mode(real_labels[idx])[0][0]\n",
    "        permutation.append(new_label)\n",
    "    return permutation\n",
    "\n",
    "data = pd.read_csv(\"https://raw.githubusercontent.com/AnkS4/hy-data-analysis-with-python-2020/master/part06-e06_nonconvex_clusters/src/data.tsv\", sep='\\t')\n",
    "x = data[[\"X1\",\"X2\"]]\n",
    "y = data['y']\n",
    "results = []\n",
    "e = .15\n",
    "model = DBSCAN(e)\n",
    "model.fit(x)\n",
    "idx = model.labels_ == -1\n",
    "outliers = np.sum(idx)\n",
    "clusters = max(model.labels_) + 1\n",
    "\n",
    "if clusters == len(y.unique()):\n",
    "    permutation = find_permutation(clusters, y, model.labels_)\n",
    "    score = accuracy_score(y[~idx], [permutation[label] for label in model.labels_[~idx]])\n",
    "else:\n",
    "    score = np.nan\n",
    "results.append([e, score, clusters, outliers])\n",
    "pd.DataFrame(data=results, columns=[\"eps\", \"Score\", \"Clusters\", \"Outliers\"], dtype=\"float64\")\n",
    "plt.scatter(data['X1'], data['X2'], c=model.labels_)\n",
    "plt.show()"
   ]
  },
  {
   "cell_type": "markdown",
   "id": "cleared-marriage",
   "metadata": {},
   "source": [
    "## Exercise 7: Binding Sites\n",
    "\n",
    "Download the [`data.seq` file](https://raw.githubusercontent.com/AnkS4/hy-data-analysis-with-python-2020/master/part06-e07_binding_sites/src/data.seq); note that it is just a plain textual data file, despite the fancy extension.\n",
    "\n",
    "They ask you to define `get_features_and_labels` to accept a filename, even though there's only one test file. Up to you if you want to hardcode the file path in or make it a flexible function.\n",
    "\n",
    "There are multiple parts here, and they ask you to compare the euclidean and hamming distance. I think it's worth thinking about - if you don't get what they mean, do ask!"
   ]
  },
  {
   "cell_type": "code",
   "execution_count": 154,
   "id": "major-breakdown",
   "metadata": {},
   "outputs": [
    {
     "name": "stdout",
     "output_type": "stream",
     "text": [
      "Euclidean affinity accuracy score:  0.9895\n",
      "Hamming affinity accuracy score:  0.9985\n",
      "The hamming distance seems to be more accurate in this case. This may be because the hamming distance is meant for categorical variables. The numbers assigned to each letter don't necessarily mean that a larger difference between the numbers shows a larger difference in the sequencing. However, I believe this is what the euclidean distance assumes, which is not completely correct\n"
     ]
    }
   ],
   "source": [
    "from sklearn.cluster import AgglomerativeClustering\n",
    "from sklearn.metrics import accuracy_score\n",
    "from sklearn.metrics import pairwise_distances\n",
    "\n",
    "# The `find_permutation` function provided in the text, for your convenience\n",
    "def find_permutation(n_clusters, real_labels, labels):\n",
    "    permutation=[]\n",
    "    for i in range(n_clusters):\n",
    "        idx = labels == i\n",
    "        # Choose the most common label among data points in the cluster\n",
    "        new_label=scipy.stats.mode(real_labels[idx])[0][0]\n",
    "        permutation.append(new_label)\n",
    "    return permutation\n",
    "\n",
    "def toint(x):\n",
    "    return 'ACGT'.find(x)\n",
    "\n",
    "def get_features_and_labels():\n",
    "    strings = data['X']\n",
    "    X = [[toint(j) for j in i] for i in strings]\n",
    "    return (X, data['y'])\n",
    "    \n",
    "def cluster_euclidean():\n",
    "    X, y = get_features_and_labels()\n",
    "    model = AgglomerativeClustering(linkage=\"average\", affinity=\"euclidean\").fit(X)\n",
    "    permutation = find_permutation(2, y, model.labels_)\n",
    "    return accuracy_score(y, [permutation[label] for label in model.labels_])\n",
    "\n",
    "def cluster_hamming():\n",
    "    X, y = get_features_and_labels()\n",
    "    d = pairwise_distances(X, metric=\"hamming\")\n",
    "    model = AgglomerativeClustering(linkage=\"average\", affinity=\"precomputed\").fit(d)\n",
    "    permutation = find_permutation(2, y, model.labels_)\n",
    "    return accuracy_score(y, [permutation[label] for label in model.labels_])\n",
    "\n",
    "data = pd.read_csv(\"https://raw.githubusercontent.com/AnkS4/hy-data-analysis-with-python-2020/master/part06-e07_binding_sites/src/data.seq\", sep='\\t')\n",
    "print(\"Euclidean affinity accuracy score: \", cluster_euclidean())\n",
    "print(\"Hamming affinity accuracy score: \", cluster_hamming())\n",
    "print(\"The hamming distance seems to be more accurate in this case. This may be because the hamming distance is meant for categorical variables. The numbers assigned to each letter don't necessarily mean that a larger difference between the numbers shows a larger difference in the sequencing. However, I believe this is what the euclidean distance assumes, which is not completely correct\")"
   ]
  },
  {
   "cell_type": "code",
   "execution_count": null,
   "id": "numerous-arrangement",
   "metadata": {},
   "outputs": [],
   "source": []
  }
 ],
 "metadata": {
  "kernelspec": {
   "display_name": "Python 3",
   "language": "python",
   "name": "python3"
  },
  "language_info": {
   "codemirror_mode": {
    "name": "ipython",
    "version": 3
   },
   "file_extension": ".py",
   "mimetype": "text/x-python",
   "name": "python",
   "nbconvert_exporter": "python",
   "pygments_lexer": "ipython3",
   "version": "3.9.2"
  }
 },
 "nbformat": 4,
 "nbformat_minor": 5
}
