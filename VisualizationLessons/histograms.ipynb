{
 "cells": [
  {
   "cell_type": "markdown",
   "id": "brutal-interface",
   "metadata": {},
   "source": [
    "# Histograms\n",
    "\n",
    "**Teammates: Julianna Dorsch, Michael Carr, Ben Raymon**\n",
    "\n",
    "### What is a Histogram?\n",
    "A histogram is a visual representation of the frequencies of elements in certain ranges for a variable in a given dataset.  It consists of bars whose height give the frequency of the data. The y-axis of a histogram represents the frequency, and the x-axis represents the type of data.\n",
    "\n",
    "Histograms are used to plot numerical data, for example, grades on an English test. In the histogram below, a bar represents the number of students with a grade that falls within the range of the bin. For example, there are aproximately 12-13 students with test scores between 40 and 50 points.\n",
    "\n",
    "![image.png](https://www.softschools.com/math/topics/images/the_histogram_img1.jpg)\n",
    "\n",
    "\n",
    "### Key Characteristics\n",
    "* Counts frequency of variable\n",
    "* Equally spaced bins\n",
    "* Visual representation of quantitative / numerical data \n",
    "\n",
    "### Purposes of Histograms\n",
    "* Easily identify and analyze distribution of variable\n",
    "* Identify center, shape, and spread\n",
    "\n",
    "### Deficiencies of Histograms\n",
    "* Unable to identify singular data points due to aggregated nature\n",
    "* Does not provide specific statistics such as the mean, median, or standard deviation\n",
    "* Histograms can provide different interpretations for the same dataset depending on how many bins are used\n",
    "\n",
    "### Common Mistakes - Bar Charts\n",
    "A bar chart and a histogram look very similar to one another. There are a few major differences between the two visualizations\n",
    "* Visually, the bars in a histogram are touching each other. The bars in a bar chart have space between them.\n",
    "* A histogram is used to graph quantitative data while a bar chart is used for categorical data. \n",
    "* Another easy way to distinguish them would be the x axis. Since a histogram is for quantitative data, the x-axis will be a range of numbers. On the other hand, the x-axis of a bar chart will most likely look like a list of words or some other form of categories. "
   ]
  },
  {
   "cell_type": "markdown",
   "id": "acknowledged-entrance",
   "metadata": {},
   "source": [
    "## Histograms in Python\n",
    "\n",
    "##### There are many libraries that allow for plotting histograms in Python. Three of the most common include Matplotlib, Seaborn and Pandas\n",
    "\n",
    "Before we can plot in any library, we need a set of data"
   ]
  },
  {
   "cell_type": "code",
   "execution_count": 1,
   "id": "organic-champion",
   "metadata": {},
   "outputs": [],
   "source": [
    "import numpy as np\n",
    "#create a set of 100 normally distributed data points, with mean 60 and standard deviation of 10\n",
    "temps = np.random.normal(60, 10, 100) "
   ]
  },
  {
   "cell_type": "markdown",
   "id": "informative-pathology",
   "metadata": {},
   "source": [
    "#### Matplotlib"
   ]
  },
  {
   "cell_type": "code",
   "execution_count": 6,
   "id": "italian-proposal",
   "metadata": {},
   "outputs": [
    {
     "data": {
      "image/png": "[encoded data removed]",
      "text/plain": [
       "<Figure size 432x288 with 1 Axes>"
      ]
     },
     "metadata": {
      "needs_background": "light"
     },
     "output_type": "display_data"
    }
   ],
   "source": [
    "import matplotlib.pyplot as plt\n",
    "\n",
    "plt.hist(temps) \n",
    "plt.title(\"Temperatures\")\n",
    "plt.xlabel(\"Temperature\")\n",
    "plt.ylabel(\"Frequency\")\n",
    "plt.show()"
   ]
  },
  {
   "cell_type": "markdown",
   "id": "crucial-paradise",
   "metadata": {},
   "source": [
    "#### Seaborn"
   ]
  },
  {
   "cell_type": "code",
   "execution_count": 7,
   "id": "surface-arnold",
   "metadata": {},
   "outputs": [
    {
     "data": {
      "image/png": "[encoded data removed]",
      "text/plain": [
       "<Figure size 432x288 with 1 Axes>"
      ]
     },
     "metadata": {
      "needs_background": "light"
     },
     "output_type": "display_data"
    }
   ],
   "source": [
    "import seaborn as sns\n",
    "#notice that you can use matplotlib to set the titles still\n",
    "sns.histplot(temps)\n",
    "plt.title(\"Temperatures\")\n",
    "plt.xlabel(\"Temperature\")\n",
    "plt.ylabel(\"Frequency\")\n",
    "plt.show()"
   ]
  },
  {
   "cell_type": "markdown",
   "id": "successful-delaware",
   "metadata": {},
   "source": [
    "#### Pandas\n",
    "\n",
    "In pandas, you must first make a dataframe with the data set. A histogram can then be generated from your dataframe."
   ]
  },
  {
   "cell_type": "code",
   "execution_count": 8,
   "id": "narrow-pastor",
   "metadata": {},
   "outputs": [
    {
     "data": {
      "image/png": "[encoded data removed]",
      "text/plain": [
       "<Figure size 432x288 with 1 Axes>"
      ]
     },
     "metadata": {
      "needs_background": "light"
     },
     "output_type": "display_data"
    }
   ],
   "source": [
    "import pandas as pd\n",
    "#once again, use matplotlib to set axis labels and titles\n",
    "temp = pd.DataFrame(temps)\n",
    "temp.hist()\n",
    "plt.title(\"Temperatures\")\n",
    "plt.xlabel(\"Temperature\")\n",
    "plt.ylabel(\"Frequency\")\n",
    "plt.show()"
   ]
  },
  {
   "cell_type": "markdown",
   "id": "significant-buffalo",
   "metadata": {},
   "source": [
    "### Bins"
   ]
  },
  {
   "cell_type": "markdown",
   "id": "alert-looking",
   "metadata": {},
   "source": [
    "The default for all of the methods above is to make a histogram with 10 bins if there is enough data.  If you want to change the number of bins, you can do so by the following:"
   ]
  },
  {
   "cell_type": "markdown",
   "id": "organic-criticism",
   "metadata": {},
   "source": [
    "#### Matplotlib"
   ]
  },
  {
   "cell_type": "code",
   "execution_count": 6,
   "id": "collected-violence",
   "metadata": {},
   "outputs": [
    {
     "data": {
      "image/png": "[encoded data removed]",
      "text/plain": [
       "<Figure size 432x288 with 1 Axes>"
      ]
     },
     "metadata": {
      "needs_background": "light"
     },
     "output_type": "display_data"
    }
   ],
   "source": [
    "plt.hist(temps, bins = 6)\n",
    "plt.title(\"Temperatures\")\n",
    "plt.xlabel(\"Temperature\")\n",
    "plt.ylabel(\"Frequency\")\n",
    "plt.show()"
   ]
  },
  {
   "cell_type": "markdown",
   "id": "egyptian-receptor",
   "metadata": {},
   "source": [
    "#### Seaborn"
   ]
  },
  {
   "cell_type": "code",
   "execution_count": 7,
   "id": "transsexual-artwork",
   "metadata": {},
   "outputs": [
    {
     "data": {
      "image/png": "[encoded data removed]",
      "text/plain": [
       "<Figure size 432x288 with 1 Axes>"
      ]
     },
     "metadata": {
      "needs_background": "light"
     },
     "output_type": "display_data"
    }
   ],
   "source": [
    "sns.histplot(temps, bins = 8)\n",
    "plt.title(\"Temperatures\")\n",
    "plt.xlabel(\"Temperature\")\n",
    "plt.ylabel(\"Frequency\")\n",
    "plt.show()"
   ]
  },
  {
   "cell_type": "markdown",
   "id": "large-membrane",
   "metadata": {},
   "source": [
    "#### Pandas"
   ]
  },
  {
   "cell_type": "code",
   "execution_count": 8,
   "id": "compatible-economy",
   "metadata": {},
   "outputs": [
    {
     "data": {
      "image/png": "[encoded data removed]",
      "text/plain": [
       "<Figure size 432x288 with 1 Axes>"
      ]
     },
     "metadata": {
      "needs_background": "light"
     },
     "output_type": "display_data"
    }
   ],
   "source": [
    "temp.hist(bins = 4)\n",
    "plt.title(\"Temperatures\")\n",
    "plt.xlabel(\"Temperature\")\n",
    "plt.ylabel(\"Frequency\")\n",
    "plt.show()"
   ]
  },
  {
   "cell_type": "markdown",
   "id": "massive-wages",
   "metadata": {},
   "source": [
    "## Exercises"
   ]
  },
  {
   "cell_type": "markdown",
   "id": "rough-feedback",
   "metadata": {},
   "source": [
    "### True/False"
   ]
  },
  {
   "cell_type": "markdown",
   "id": "sorted-prayer",
   "metadata": {},
   "source": [
    "1. One can easily identify what the exact mean and standard deviation are for the dataset based solely on the histogram."
   ]
  },
  {
   "cell_type": "markdown",
   "id": "boxed-insight",
   "metadata": {},
   "source": [
    "    Answer: False"
   ]
  },
  {
   "cell_type": "markdown",
   "id": "other-chile",
   "metadata": {},
   "source": [
    "2. A histogram's bins must all be the same size."
   ]
  },
  {
   "cell_type": "markdown",
   "id": "emerging-tenant",
   "metadata": {},
   "source": [
    "    Answer: True"
   ]
  },
  {
   "cell_type": "markdown",
   "id": "hollow-toner",
   "metadata": {},
   "source": [
    "3. The shape of a histogram will always look the same if the data is the same."
   ]
  },
  {
   "cell_type": "markdown",
   "id": "portable-albuquerque",
   "metadata": {},
   "source": [
    "    Answer: False"
   ]
  },
  {
   "cell_type": "markdown",
   "id": "blind-renewal",
   "metadata": {},
   "source": [
    "### Plotting"
   ]
  },
  {
   "cell_type": "markdown",
   "id": "western-secret",
   "metadata": {},
   "source": [
    "Plot the following data using each library. Set 15 bins for matplotlib, 8 bins for seaborn, and 4 for pandas.\n",
    "\n",
    "Make the title be \"Distribution of Salaries\" with a y-axis of \"Frequency\" and an x-axis called \"Salary (in $1000)\" "
   ]
  },
  {
   "cell_type": "code",
   "execution_count": 9,
   "id": "secondary-bumper",
   "metadata": {},
   "outputs": [],
   "source": [
    "l1 = np.random.normal(20, 15, 50)\n",
    "l2 = np.random.normal(80, 15, 50)\n",
    "sal = np.concatenate([l1, l2])"
   ]
  },
  {
   "cell_type": "markdown",
   "id": "beautiful-dividend",
   "metadata": {},
   "source": [
    "#### Matplotlib"
   ]
  },
  {
   "cell_type": "code",
   "execution_count": 20,
   "id": "nonprofit-voluntary",
   "metadata": {},
   "outputs": [
    {
     "data": {
      "image/png": "[encoded data removed]",
      "text/plain": [
       "<Figure size 432x288 with 1 Axes>"
      ]
     },
     "metadata": {
      "needs_background": "light"
     },
     "output_type": "display_data"
    }
   ],
   "source": [
    "plt.hist(sal, bins=15)\n",
    "plt.title(\"Distribution of Salaries\")\n",
    "plt.xlabel(\"Salary (in $1000)\")\n",
    "plt.ylabel(\"Frequency\")\n",
    "plt.show()"
   ]
  },
  {
   "cell_type": "markdown",
   "id": "aquatic-moral",
   "metadata": {},
   "source": [
    "#### Seaborn"
   ]
  },
  {
   "cell_type": "code",
   "execution_count": 26,
   "id": "varied-combination",
   "metadata": {},
   "outputs": [
    {
     "data": {
      "image/png": "[encoded data removed]",
      "text/plain": [
       "<Figure size 432x288 with 1 Axes>"
      ]
     },
     "metadata": {
      "needs_background": "light"
     },
     "output_type": "display_data"
    }
   ],
   "source": [
    "sns.histplot(sal, bins=8)\n",
    "plt.title(\"Distribution of Salaries\")\n",
    "plt.xlabel(\"Salary (in $1000)\")\n",
    "plt.ylabel(\"Frequency\")\n",
    "plt.show()"
   ]
  },
  {
   "cell_type": "markdown",
   "id": "explicit-proceeding",
   "metadata": {},
   "source": [
    "#### Pandas"
   ]
  },
  {
   "cell_type": "code",
   "execution_count": 31,
   "id": "supported-bottle",
   "metadata": {},
   "outputs": [
    {
     "data": {
      "image/png": "[encoded data removed]",
      "text/plain": [
       "<Figure size 432x288 with 1 Axes>"
      ]
     },
     "metadata": {
      "needs_background": "light"
     },
     "output_type": "display_data"
    }
   ],
   "source": [
    "sal2 = pd.DataFrame(sal)\n",
    "sal2.hist(bins=4)\n",
    "plt.title(\"Distribution of Salaries\")\n",
    "plt.xlabel(\"Salary (in $1000)\")\n",
    "plt.ylabel(\"Frequency\")\n",
    "plt.show()"
   ]
  },
  {
   "cell_type": "markdown",
   "id": "seeing-offer",
   "metadata": {},
   "source": [
    "What did you notice changed as the number of bins changed? What do you think is the best number of bins to use for this data of the provided options?"
   ]
  },
  {
   "cell_type": "markdown",
   "id": "innocent-attention",
   "metadata": {},
   "source": [
    "As the bin number decreased, the data became harder to differentiate from each other. The best number of bins for this data out of the 3 options is 8. "
   ]
  },
  {
   "cell_type": "markdown",
   "id": "entitled-blake",
   "metadata": {},
   "source": [
    "## Notes\n",
    "This gave a good idea of how to use histograms, however it might've been nicer if I could've tested my knowledge along the way instead of all at the end. Also, saying that the default is 10 bins \"if there is enough data\" seems rather vague and unhelpful. Lastly, using xticks() could've made the histograms better by clearly defining the boundaries of the bins."
   ]
  },
  {
   "cell_type": "code",
   "execution_count": null,
   "id": "occupied-luxembourg",
   "metadata": {},
   "outputs": [],
   "source": []
  }
 ],
 "metadata": {
  "kernelspec": {
   "display_name": "Python 3",
   "language": "python",
   "name": "python3"
  },
  "language_info": {
   "codemirror_mode": {
    "name": "ipython",
    "version": 3
   },
   "file_extension": ".py",
   "mimetype": "text/x-python",
   "name": "python",
   "nbconvert_exporter": "python",
   "pygments_lexer": "ipython3",
   "version": "3.9.1"
  }
 },
 "nbformat": 4,
 "nbformat_minor": 5
}
